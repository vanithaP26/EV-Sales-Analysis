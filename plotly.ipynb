{
 "cells": [
  {
   "cell_type": "code",
   "execution_count": 2,
   "id": "75948e81-b412-4e99-9587-abbc5e040c57",
   "metadata": {},
   "outputs": [
    {
     "name": "stdout",
     "output_type": "stream",
     "text": [
      "Index(['region', 'category', 'parameter', 'mode', 'powertrain', 'year', 'unit',\n",
      "       'value'],\n",
      "      dtype='object')\n"
     ]
    }
   ],
   "source": [
    "import pandas as pd\n",
    "df = pd.read_csv(r\"C:\\Users\\sudee\\Downloads\\IEA-EV-dataEV salesHistoricalCars.csv\")\n",
    "print(df.columns)\n"
   ]
  },
  {
   "cell_type": "code",
   "execution_count": 3,
   "id": "b5c26ba2-31bc-4124-b4b2-12210b802682",
   "metadata": {},
   "outputs": [
    {
     "data": {
      "text/html": [
       "\n",
       "        <iframe\n",
       "            width=\"100%\"\n",
       "            height=\"650\"\n",
       "            src=\"http://127.0.0.1:8055/\"\n",
       "            frameborder=\"0\"\n",
       "            allowfullscreen\n",
       "            \n",
       "        ></iframe>\n",
       "        "
      ],
      "text/plain": [
       "<IPython.lib.display.IFrame at 0x1ffb503ba10>"
      ]
     },
     "metadata": {},
     "output_type": "display_data"
    }
   ],
   "source": [
    "from dash import Dash, html, dcc, Input, Output\n",
    "import plotly.express as px\n",
    "import pandas as pd\n",
    "\n",
    "df = pd.read_csv(r\"C:\\Users\\sudee\\Downloads\\ev_data_sales.csv\")\n",
    "\n",
    "\n",
    "df.columns = df.columns.str.strip().str.lower()\n",
    "\n",
    "\n",
    "app = Dash(__name__)\n",
    "app.title = \" Car Sales Data Visualization Dashboard\"\n",
    "\n",
    "\n",
    "app.layout = html.Div([\n",
    "    html.H1(\"Electric Vehicle Sales Dashboard\",\n",
    "            style={'textAlign': 'center', 'color': '#003366', 'marginBottom': 20}),\n",
    "\n",
    "    html.Div([\n",
    "        html.Div([\n",
    "            html.Label(\"Select X-axis:\"),\n",
    "            dcc.Dropdown(\n",
    "                id='x-axis',\n",
    "                options=[{'label': col, 'value': col} for col in df.columns],\n",
    "                value='year',  # Default X-axis\n",
    "                clearable=False\n",
    "            ),\n",
    "        ], style={'width': '30%', 'display': 'inline-block', 'padding': '10px'}),\n",
    "\n",
    "        html.Div([\n",
    "            html.Label(\"Select Y-axis:\"),\n",
    "            dcc.Dropdown(\n",
    "                id='y-axis',\n",
    "                options=[{'label': col, 'value': col} for col in ['value']],\n",
    "                value='value',  # Default Y-axis\n",
    "                clearable=False\n",
    "            ),\n",
    "        ], style={'width': '30%', 'display': 'inline-block', 'padding': '10px'}),\n",
    "\n",
    "        html.Div([\n",
    "            html.Label(\"Select Chart Type:\"),\n",
    "            dcc.Dropdown(\n",
    "                id='chart-type',\n",
    "                options=[\n",
    "                    {'label': 'Line Chart', 'value': 'line'},\n",
    "                    {'label': 'Bar Chart', 'value': 'bar'},\n",
    "                    {'label': 'Scatter Plot', 'value': 'scatter'},\n",
    "                    {'label': 'Histogram', 'value': 'hist'},\n",
    "                    {'label': 'Box Plot', 'value': 'box'}\n",
    "                ],\n",
    "                value='line',  \n",
    "                clearable=False\n",
    "            )\n",
    "        ], style={'width': '30%', 'display': 'inline-block', 'padding': '10px'})\n",
    "    ], style={'textAlign': 'center'}),\n",
    "\n",
    "    html.Div([\n",
    "        dcc.Graph(id='graph-output', style={'height': '650px', 'marginTop': '30px'})\n",
    "    ])\n",
    "])\n",
    "\n",
    "\n",
    "@app.callback(\n",
    "    Output('graph-output', 'figure'),\n",
    "    [Input('x-axis', 'value'),\n",
    "     Input('y-axis', 'value'),\n",
    "     Input('chart-type', 'value')]\n",
    ")\n",
    "def update_chart(x_col, y_col, chart_type):\n",
    "    try:\n",
    "        if chart_type == 'line':\n",
    "            fig = px.line(df, x=x_col, y=y_col, color='region',\n",
    "                          title=f\"{y_col.capitalize()} vs {x_col.capitalize()} (Line Chart)\")\n",
    "        elif chart_type == 'bar':\n",
    "            fig = px.bar(df, x=x_col, y=y_col, color='region',\n",
    "                         title=f\"{y_col.capitalize()} vs {x_col.capitalize()} (Bar Chart)\")\n",
    "        elif chart_type == 'scatter':\n",
    "            fig = px.scatter(df, x=x_col, y=y_col, color='region',\n",
    "                             title=f\"{y_col.capitalize()} vs {x_col.capitalize()} (Scatter Plot)\")\n",
    "        elif chart_type == 'hist':\n",
    "            fig = px.histogram(df, x=y_col, nbins=20,\n",
    "                               title=f\"{y_col.capitalize()} Distribution (Histogram)\")\n",
    "        elif chart_type == 'box':\n",
    "            fig = px.box(df, y=y_col, color='region',\n",
    "                         title=f\"{y_col.capitalize()} (Box Plot)\")\n",
    "        else:\n",
    "            fig = px.scatter(title=\"Select a valid chart type\")\n",
    "\n",
    "        fig.update_layout(\n",
    "            template=\"plotly_white\",\n",
    "            margin=dict(l=50, r=50, t=80, b=50),\n",
    "            legend_title=\"Region\",\n",
    "            xaxis_title=x_col.capitalize(),\n",
    "            yaxis_title=y_col.capitalize()\n",
    "        )\n",
    "        return fig\n",
    "\n",
    "    except Exception as e:\n",
    "        return px.scatter(title=f\"Error generating chart: {str(e)}\")\n",
    "\n",
    "\n",
    "if __name__ == '__main__':\n",
    "    app.run(debug=True, port=8055)"
   ]
  },
  {
   "cell_type": "code",
   "execution_count": null,
   "id": "17fa50f2-6ab5-4b32-9661-5a5b799e46aa",
   "metadata": {},
   "outputs": [],
   "source": []
  },
  {
   "cell_type": "code",
   "execution_count": null,
   "id": "7b0ef849-ea9d-47ca-ae56-4d4bbe46c735",
   "metadata": {},
   "outputs": [],
   "source": [
    "-"
   ]
  }
 ],
 "metadata": {
  "kernelspec": {
   "display_name": "Python [conda env:base] *",
   "language": "python",
   "name": "conda-base-py"
  },
  "language_info": {
   "codemirror_mode": {
    "name": "ipython",
    "version": 3
   },
   "file_extension": ".py",
   "mimetype": "text/x-python",
   "name": "python",
   "nbconvert_exporter": "python",
   "pygments_lexer": "ipython3",
   "version": "3.13.5"
  }
 },
 "nbformat": 4,
 "nbformat_minor": 5
}
